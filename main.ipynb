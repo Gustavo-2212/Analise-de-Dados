{
  "nbformat": 4,
  "nbformat_minor": 0,
  "metadata": {
    "colab": {
      "name": "main.ipynb",
      "provenance": [],
      "mount_file_id": "1yidN5_Z0sinwGzibfKX8O2nlsSiN25LD",
      "authorship_tag": "ABX9TyPwxMhBWGjTXBsikqVSyhiK",
      "include_colab_link": true
    },
    "kernelspec": {
      "name": "python3",
      "display_name": "Python 3"
    },
    "language_info": {
      "name": "python"
    }
  },
  "cells": [
    {
      "cell_type": "markdown",
      "metadata": {
        "id": "view-in-github",
        "colab_type": "text"
      },
      "source": [
        "<a href=\"https://colab.research.google.com/github/Gustavo-2212/Analise-de-Dados/blob/main/main.ipynb\" target=\"_parent\"><img src=\"https://colab.research.google.com/assets/colab-badge.svg\" alt=\"Open In Colab\"/></a>"
      ]
    },
    {
      "cell_type": "markdown",
      "source": [
        "https://plotly.com/python/\n",
        "\n",
        "https://plotly.com/python/histograms/"
      ],
      "metadata": {
        "id": "y8ngJDj737dS"
      }
    },
    {
      "cell_type": "code",
      "execution_count": 11,
      "metadata": {
        "id": "_AVTL58bwApl"
      },
      "outputs": [],
      "source": [
        "import pandas as pd\n",
        "\n",
        "bd = pd.read_csv(r'/content/drive/MyDrive/Aula 02/ClientesBanco.csv', encoding='latin1')\n",
        "bd = bd.drop('CLIENTNUM', axis='columns')\n",
        "\n",
        "# Removendo dados faltantes/falhos\n",
        "bd = bd.dropna()"
      ]
    },
    {
      "cell_type": "code",
      "source": [
        "display(bd)\n",
        "display(bd.info())\n",
        "display(bd.describe())"
      ],
      "metadata": {
        "id": "q4Tl8o3Rxqcb"
      },
      "execution_count": null,
      "outputs": []
    },
    {
      "cell_type": "code",
      "source": [
        "display(bd['Categoria'].value_counts())\n",
        "display(bd['Categoria'].value_counts(normalize=True))"
      ],
      "metadata": {
        "id": "rh3ZzxCb1T9Z"
      },
      "execution_count": null,
      "outputs": []
    },
    {
      "cell_type": "code",
      "source": [
        "import plotly.express as px\n",
        "\n",
        "def graficoColCategoria(coluna, tabela):\n",
        "  fig = px.histogram(tabela, x=coluna, color='Categoria')\n",
        "  fig.show()"
      ],
      "metadata": {
        "id": "VjfrT1-L2FBi"
      },
      "execution_count": 16,
      "outputs": []
    },
    {
      "cell_type": "code",
      "source": [
        "for coluna in bd:\n",
        "  graficoColCategoria(coluna, bd)"
      ],
      "metadata": {
        "id": "QAHzNN6q2pq5"
      },
      "execution_count": null,
      "outputs": []
    }
  ]
}